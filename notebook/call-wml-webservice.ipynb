{
    "cells": [
        {
            "metadata": {},
            "cell_type": "markdown",
            "source": "# AutoAI  Web\u30b5\u30fc\u30d3\u30b9\u306e\u547c\u3073\u51fa\u3057\n\u3053\u306enotebook\u306fIBMCloud\u4e0a\u306eWatson Studio\u306enotebook\u3067\u52d5\u304f\u3088\u3046\u306b\u66f8\u304b\u308c\u3066\u3044\u307e\u3059\u3002\n\n## 0. \u4e8b\u524d\u6e96\u5099\n\u4ee5\u4e0b\u306e\uff12\u3064\u3092\u4e8b\u524d\u306b\u5b9f\u65bd\u304a\u9858\u3044\u3057\u307e\u3059\u3002\u65e2\u306b\u5b9f\u65bd\u6e08\u307f\u306e\u5834\u5408\u306fSetup\u306b\u9032\u3093\u3067\u304f\u3060\u3055\u3044\u3002\n\n### 1 [Watson Studio\u4e0a\u306enotebook\u304b\u3089IBM Cloud Object Storage(ICOS)\u3078\u306eFile\u306e\u8aad\u307f\u66f8\u304d - project-lib\u3092\u4f7f\u3046 -](https://qiita.com/nishikyon/items/1bed62a2a98b0c970f40)\u306e\u624b\u9806\u304c\u524d\u6e96\u5099\u3068\u3057\u3066\u5fc5\u8981\u3067\u3059\u3002\n\n\u4ee5\u4e0b\u3092\u5b9f\u65bd\u304a\u9858\u3044\u3057\u307e\u3059:\n#### 1. \u5225\u306e\u30d6\u30e9\u30a6\u30b6\u30fc\u306e\u30bf\u30d6\u3067 [1. Project\u3092\u958b\u304f](https://qiita.com/nishikyon/items/1bed62a2a98b0c970f40)\u3000\u3092\u5b9f\u65bd\u3002\u958b\u304f\u30d7\u30ed\u30b8\u30a7\u30af\u30c8\u306f\u3053\u306eNotenook\u3092\u4f5c\u6210\u3057\u305f\u30d7\u30ed\u30b8\u30a7\u30af\u30c8\u3067\u3059\u3002\n#### 2. 1\u3067\u958b\u3044\u305f\u30d7\u30ed\u30b8\u30a7\u30af\u30c8\u306e\u30bf\u30d6\u3067[2. \u524d\u6e96\u5099 Access token\u306e\u4f5c\u6210](https://qiita.com/nishikyon/items/1bed62a2a98b0c970f40#2-%E5%89%8D%E6%BA%96%E5%82%99-access-token%E3%81%AE%E4%BD%9C%E6%88%90) \u3092\u5b9f\u65bd\n#### 3. \u3053\u306eNotebook\u3067\u3000[5: Project token\u306eInsert](https://qiita.com/nishikyon/items/1bed62a2a98b0c970f40#5-project-token%E3%81%AEinsert)\u3092\u5b9f\u65bd\u3057\u3066\u304f\u3060\u3055\u3044\u3002\u6700\u5f8c\u306b\u4f5c\u6210\u3055\u308c\u305f\u4e00\u756a\u4e0a\u306e\u30bb\u30eb\u306e\u5b9f\u884c\u3092\u5fd8\u308c\u306a\u3044\u3088\u3046\u306b\u3057\u3066\u304f\u3060\u3055\u3044\u3002\n\n### 2. UCI Iris.csv\u306e\u30d7\u30ed\u30b8\u30a7\u30af\u30c8\u3078\u306e\u8aad\u307f\u8fbc\u307f\n[Watson Studio\u306eGallery\u304b\u3089\u30c7\u30fc\u30bf\u3092\u30d7\u30ed\u30b8\u30a7\u30af\u30c8\u306b\u30ed\u30fc\u30c9\u3059\u308b](https://qiita.com/nishikyon/items/4d97db14f42ab7c41a3e)\u3092\u5b9f\u65bd\u3057\u3066\u304f\u3060\u3055\u3044\u3002\n\n### 3. AutoAI\u3067 UCI Iris.csv\u306e\u4e88\u6e2c\u30e2\u30c7\u30eb\u3092\u4f5c\u308a\u3001`Iris Deployment` \u3068\u3044\u3046\u540d\u524d\u3067Deploy\u3059\u308b\nAutoAI\u306f[AutoAI \u306e\u6982\u8aac](https://dataplatform.cloud.ibm.com/docs/content/wsj/analyze-data/autoai-overview.html) \u3092\u53c2\u7167\u3057\u3066\u304f\u3060\u3055\u3044\u3002\n"
        },
        {
            "metadata": {
                "collapsed": true
            },
            "cell_type": "markdown",
            "source": "## 1. \u30bb\u30c3\u30c8\u30a2\u30c3\u30d7\n\n\u4ee5\u4e0b\u306e\u30bb\u30c3\u30c8\u30a2\u30c3\u30d7\u4f5c\u696d\u3092\u884c\u306a\u3063\u3066\u304f\u3060\u3055\u3044\n - \u3000\u53e4\u3044\u30af\u30e9\u30a4\u30f3\u30a2\u30f3\u30c8`watson-machine-learning-client`\u3000\u306e\u30a2\u30f3\u30a4\u30f3\u30b9\u30c8\u30fc\u30eb\n - `watson-machine-learning-client-V4` \u306e\u30a4\u30f3\u30b9\u30c8\u30fc\u30eb"
        },
        {
            "metadata": {},
            "cell_type": "code",
            "source": "!pip uninstall watson-machine-learning-client -y",
            "execution_count": null,
            "outputs": []
        },
        {
            "metadata": {},
            "cell_type": "code",
            "source": "!pip install -U watson-machine-learning-client-V4",
            "execution_count": null,
            "outputs": []
        },
        {
            "metadata": {},
            "cell_type": "markdown",
            "source": "## 2. UCI Iris.csv\u306e\u30c7\u30fc\u30bf\u30d5\u30ec\u30fc\u30e0\u3078\u306e\u8aad\u307f\u8fbc\u307f\n\u30d5\u30a1\u30a4\u30eb\u306e\u8aad\u307f\u66f8\u304d\u306e\u8a73\u7d30\u3092\u77e5\u308a\u305f\u3044\u5834\u5408\u306f\u3000[Python \u7528\u306e project-lib \u306e\u4f7f\u7528](https://dataplatform.cloud.ibm.com/docs/content/wsj/analyze-data/project-lib-python.html)\u3092\u53c2\u7167\u3057\u3066\u304f\u3060\u3055\u3044\u3002\n\n`UCI Iris.csv`\u3000\u306e\uff11\u884c\u76ee\u306e\u30c7\u30fc\u30bf\u3092test_iris_df\u306b\u5165\u308c\u307e\u3059"
        },
        {
            "metadata": {},
            "cell_type": "code",
            "source": "csv_file_name = 'UCI Iris.csv'\ncsv_file = project.get_file(csv_file_name)\ncsv_file.seek(0)\n\nimport pandas as pd\niris_df = pd.read_csv(csv_file)\n\n#\u6700\u521d\u306e5\u884c\u306e\u8868\u793a\ndisplay(iris_df.head())\n\n#\u30c6\u30b9\u30c8\u30c7\u30fc\u30bf\u3068\u3057\u3066\uff11\u884c\u76ee\u306eDataframe\u3092\u629c\u304d\u51fa\u3059\ntest_iris_df = iris_df.drop(columns='CLASS').iloc[0:1]\ndisplay(test_iris_df)\n",
            "execution_count": null,
            "outputs": []
        },
        {
            "metadata": {},
            "cell_type": "markdown",
            "source": "# 2. Watson Machine Learning\u306e\u8cc7\u683c\u60c5\u5831\u306e\u53d6\u5f97 <a name=\"credential\"></a>\n\n[\u30c0\u30c3\u30b7\u30e5\u30dc\u30fc\u30c9](https://cloud.ibm.com/)\u2192[\u30ea\u30bd\u30fc\u30b9\u306e\u8868\u793a](https://cloud.ibm.com/resources)\u306e`Services`\u306e\u4e0b\u304b\u3089Watson Machine\u3000Learning\u30b5\u30fc\u30d3\u30b9\u306e\u540d\u524d\u3092\u30af\u30ea\u30c3\u30af\u3057\u307e\u3059\u3002\n\n\u8a73\u7d30\u304c\u4f5c\u6210\u3055\u308c\u305f\u3089\u3001\u753b\u9762\u5de6\u5074\u306e`\u30b5\u30fc\u30d3\u30b9\u8cc7\u683c\u60c5\u5831`\u30ea\u30f3\u30af\u3092\u30af\u30ea\u30c3\u30af\u3057\u307e\u3059\u3002`\u65b0\u898f\u8cc7\u683c\u60c5\u5831`\u30dc\u30bf\u30f3\u3092\u30af\u30ea\u30c3\u30af\u3057\u3001\u8cc7\u683c\u60c5\u5831\u306b\u540d\u524d\u3092\u4ed8\u3051\u3066\u3001\u8ffd\u52a0\u3092\u30af\u30ea\u30c3\u30af\u3057\u307e\u3059\u3002\u65b0\u3057\u3044\u30af\u30ec\u30c7\u30f3\u30b7\u30e3\u30eb\u306f\u3001`\u8cc7\u683c\u60c5\u5831\u306e\u8868\u793a`\u30dc\u30bf\u30f3\u3092\u30af\u30ea\u30c3\u30af\u3057\u3066\u30a2\u30af\u30bb\u30b9\u3067\u304d\u307e\u3059\u3002\u8868\u793a\u3055\u308c\u305f\u8cc7\u683c\u60c5\u5831\u3092\u30b3\u30d4\u30fc\u3057\u3066\u4e0b\u306e\u30bb\u30eb\u306b\u8cbc\u308a\u4ed8\u3051\u307e\u3059\u3002"
        },
        {
            "metadata": {},
            "cell_type": "code",
            "source": "#\u81ea\u5206\u306eWatson Machine Learning\u306e\u8cc7\u683c\u60c5\u5831\u3092\u30da\u30fc\u30b9\u30c8\u3057\u3066\u304f\u3060\u3055\u3044\u3002\nwml_credentials = {\n  \"apikey\": \"<\u3053\u3053\u306b\u30b3\u30d4\u30da>\",\n  \"instance_id\": \"<\u3053\u3053\u306b\u30b3\u30d4\u30da>\",\n  \"url\": \"<\u3053\u3053\u306b\u30b3\u30d4\u30da>\"\n}",
            "execution_count": null,
            "outputs": []
        },
        {
            "metadata": {},
            "cell_type": "markdown",
            "source": "## 3. Deployment Name\u306e\u30bb\u30c3\u30c8\n`Iris Deployment`\u3068\u3044\u3046\u540d\u524d\u3067\u4f5c\u6210\u3057\u305f\u5834\u5408\u306f\u3001\u305d\u306e\u307e\u307e\u5b9f\u884c\u3057\u3066\u304f\u3060\u3055\u3044\u3002\n\u9055\u3046\u540d\u524d\u3067Deployment\u3092\u4f5c\u6210\u3057\u305f\u5834\u5408\u306f\u3001`Iris Deployment`\u90e8\u5206\u3092\u81ea\u5206\u306eDeployment\u3000Name\u306b\u4fee\u6b63\u3057\u3066\u304b\u3089\u5b9f\u884c\u3057\u3066\u304f\u3060\u3055\u3044\u3002"
        },
        {
            "metadata": {},
            "cell_type": "code",
            "source": "DEPLOYMENT_NAME = 'Iris Deployment'",
            "execution_count": null,
            "outputs": []
        },
        {
            "metadata": {},
            "cell_type": "markdown",
            "source": "## 4. Deplymeny\u306eID\u306e\u53d6\u5f97\n\u4ee5\u4e0b\u3092\u5b9f\u884c\u3057\u3066\u304f\u3060\u3055\u3044\u3002"
        },
        {
            "metadata": {},
            "cell_type": "code",
            "source": "from watson_machine_learning_client.deployment import WebService\n\n\nservice = WebService(wml_credentials)\nservice_list_df = service.list()\ndisplay(service_list_df)\nfor index,item in service_list_df.iterrows():\n    if item['name'] == DEPLOYMENT_NAME:\n        deployment_id = item['id']\n        break\nprint ('The Id is' +deployment_id)",
            "execution_count": null,
            "outputs": []
        },
        {
            "metadata": {},
            "cell_type": "markdown",
            "source": "## 5. Web\u30b5\u30fc\u30d3\u30b9\u3092\u547c\u3073\u51fa\u3057\u3066\u4e88\u6e2c\u7d50\u679c\u306e\u53d6\u5f97\n `UCI Iris.csv`\u3000\u306e\uff11\u884c\u76ee\u306e\u30c7\u30fc\u30bf\u306e\u4e88\u6e2c\u3092\u3057\u307e\u3059\u3002\u4ee5\u4e0b\u3092\u5b9f\u884c\u3057\u3066\u304f\u3060\u3055\u3044\u3002"
        },
        {
            "metadata": {},
            "cell_type": "code",
            "source": "service.get( deployment_id) \npredictions = service.score(payload=test_iris_df)\npredictions",
            "execution_count": null,
            "outputs": []
        },
        {
            "metadata": {},
            "cell_type": "markdown",
            "source": "`value`\u306b`Iris-setosa`\u304c\u4e88\u6e2c\u3055\u308c\u305f\u3068\u601d\u3044\u307e\u3059\u3002"
        }
    ],
    "metadata": {
        "kernelspec": {
            "name": "python3",
            "display_name": "Python 3.6",
            "language": "python"
        },
        "language_info": {
            "name": "python",
            "version": "3.6.9",
            "mimetype": "text/x-python",
            "codemirror_mode": {
                "name": "ipython",
                "version": 3
            },
            "pygments_lexer": "ipython3",
            "nbconvert_exporter": "python",
            "file_extension": ".py"
        }
    },
    "nbformat": 4,
    "nbformat_minor": 1
}